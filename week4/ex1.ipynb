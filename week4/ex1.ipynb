{
 "cells": [
  {
   "cell_type": "code",
   "execution_count": null,
   "id": "84d7f84e",
   "metadata": {},
   "outputs": [
    {
     "name": "stdout",
     "output_type": "stream",
     "text": [
      "True\n",
      "Grade A\n",
      "674245002 n k Grade A\n"
     ]
    }
   ],
   "source": [
    "inp_point = input(\"กรอกคะแนน : \")\n",
    "\n",
    "if(inp_point.isdigit()):\n",
    "    print(\"True\")\n",
    "point = float(inp_point)\n",
    "\n",
    "if(point >= 0 and point <= 100):\n",
    "\n",
    "    if(point >= 80) :  \n",
    "        print(\"Grade A\")\n",
    "    elif(point >= 75) :  \n",
    "        print(\"Grade B+\")\n",
    "    elif(point >= 70) :  \n",
    "        print(\"Grade B\")\n",
    "    elif(point >= 65) :  \n",
    "        print(\"Grade C+\")\n",
    "    elif(point >= 60) :  \n",
    "        print(\"Grade C\")\n",
    "    elif(point >= 55) :  \n",
    "        print(\"Grade D+\")\n",
    "    elif(point >= 50) :  \n",
    "        print(\"Grade D\")\n",
    "    else:\n",
    "        print(\"Grade E\")\n",
    "\n",
    "\n",
    "\n",
    "\n",
    "def cal_grade(point):\n",
    "    if(point >= 80) :  \n",
    "        return \"A\"\n",
    "    elif(point >= 75) :  \n",
    "        return \"B+\"\n",
    "    elif(point >= 70) :  \n",
    "        return \"B\"\n",
    "    elif(point >= 65) :  \n",
    "        return \"C+\"\n",
    "    elif(point >= 60) :  \n",
    "        return \"C\"\n",
    "    elif(point >= 55) :  \n",
    "        return \"D+\"\n",
    "    elif(point >= 50) :  \n",
    "        return \"D\"\n",
    "    else:\n",
    "        return \"E\"\n",
    "\n",
    "count = 0\n",
    "stop = 2\n",
    "\n",
    "while count < stop:\n",
    "\n",
    "    idStd = input(\"รหัสนักศึกษา :\")    \n",
    "    fname = input(\"ชื่อ :\")\n",
    "    lname = input(\"นามสกุล :\")   \n",
    "    inp_point = input(\"กรอกคะแนน :\")\n",
    "    if(inp_point.isdigit()):\n",
    "        point = float(inp_point)\n",
    "\n",
    "        if(point >= 0 and point <= 100):\n",
    "            print(idStd, fname, lname, \"Grade\", cal_grade(point))\n",
    "        else:\n",
    "            print(\"เงื่อนไขในการกรอกข้อมูลผิดพลาด\")\n",
    "    else:\n",
    "        print(\"False\")        \n",
    "    count+1\n"
   ]
  }
 ],
 "metadata": {
  "kernelspec": {
   "display_name": "base",
   "language": "python",
   "name": "python3"
  },
  "language_info": {
   "codemirror_mode": {
    "name": "ipython",
    "version": 3
   },
   "file_extension": ".py",
   "mimetype": "text/x-python",
   "name": "python",
   "nbconvert_exporter": "python",
   "pygments_lexer": "ipython3",
   "version": "3.13.5"
  }
 },
 "nbformat": 4,
 "nbformat_minor": 5
}
