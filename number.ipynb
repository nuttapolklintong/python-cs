{
 "cells": [
  {
   "cell_type": "code",
   "execution_count": 3,
   "id": "f3729f97",
   "metadata": {},
   "outputs": [
    {
     "name": "stdout",
     "output_type": "stream",
     "text": [
      "-9\n"
     ]
    }
   ],
   "source": [
    "def add (a, b):\n",
    "    c = a +b\n",
    "    return c\n",
    "def sub (a, b):\n",
    "    c = a - b\n",
    "    return c\n",
    "def div (a, b):\n",
    "    c = a / b\n",
    "    return c\n",
    "def mul (a, b):\n",
    "    c = a * b\n",
    "    return c\n",
    "\n",
    "a = int(input(\"input A : \"))\n",
    "b = int(input(\"input B : \"))\n",
    "\n",
    "c = mul(add(4,5), sub(4,5))\n",
    "print(c)"
   ]
  }
 ],
 "metadata": {
  "kernelspec": {
   "display_name": "base",
   "language": "python",
   "name": "python3"
  },
  "language_info": {
   "codemirror_mode": {
    "name": "ipython",
    "version": 3
   },
   "file_extension": ".py",
   "mimetype": "text/x-python",
   "name": "python",
   "nbconvert_exporter": "python",
   "pygments_lexer": "ipython3",
   "version": "3.13.5"
  }
 },
 "nbformat": 4,
 "nbformat_minor": 5
}
